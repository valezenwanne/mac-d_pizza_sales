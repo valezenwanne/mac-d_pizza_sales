{
 "cells": [
  {
   "cell_type": "markdown",
   "id": "e306be68",
   "metadata": {},
   "source": [
    "# Mac-D Pizza Sales Report (2015)\n",
    "#### By Valentine Ezenwanne"
   ]
  },
  {
   "cell_type": "markdown",
   "id": "5f64bd2d",
   "metadata": {},
   "source": [
    "## About the Dataset"
   ]
  },
  {
   "cell_type": "markdown",
   "id": "707ab71c",
   "metadata": {},
   "source": [
    "The dataset consits of four csv files that contain informations on the orders, order_details, pizza_types and pizza. The dataset contains features such as order_id, date, quantity, pizza type, price and others.\n",
    "\n",
    "The purpose of these datasets is to analyze and present visually the sales performance for a fictious Mac-D Pizza Place for the year 2015.\n"
   ]
  },
  {
   "cell_type": "markdown",
   "id": "bbfa4203",
   "metadata": {},
   "source": [
    "## Features Description\n",
    "The fearures in the tables include:\n",
    "- order_id : Unique identifier for each order placed by a table\n",
    "\n",
    "- date: Date the order was placed (entered into the system prior to cooking & serving)\n",
    "\n",
    "- time: Time the order was placed (entered into the system prior to cooking & serving)\n",
    "\n",
    "- order_details_id : Unique identifier for each pizza placed within each order (pizzas of the same type and size are kept in the same row, and the quantity increases)\n",
    "\n",
    "- pizza_id: Unique identifier for each pizza (constituted by its type and size)\n",
    "\n",
    "- quantity: Quantity ordered for each pizza of the same type and size\n",
    "\n",
    "- size: Size of the pizza (Small, Medium, Large, X Large, or XX Large)\n",
    "\n",
    "- price: Price of the pizza in USD\n",
    "\n",
    "- pizza_type_id: Unique identifier for each pizza type\n",
    "\n",
    "- name: Name of the pizza as shown in the menu\n",
    "\n",
    "- category: Category that the pizza fall under in the menu (Classic, Chicken, Supreme, or Veggie)\n",
    "\n",
    "- ingredients: Comma-delimited ingredients used in the pizza as shown in the menu (they all include Mozzarella Cheese, even if not specified; and they all include Tomato Sauce, unless another sauce is specified)\n"
   ]
  },
  {
   "cell_type": "markdown",
   "id": "09efa0ee",
   "metadata": {},
   "source": [
    "## Questions\n",
    "These are some of the questions to be answered from the analysis\n",
    "\n",
    "- What are the top KPI's \n",
    "\n",
    "    - How many customers did we have each day?\n",
    "    \n",
    "    - How many pizzas did we sell per day?\n",
    "    \n",
    "    - How many pizzas are typically in an order?\n",
    "    \n",
    "- Is the order impacted by trend?\n",
    "\n",
    "- Which pizzas are the best and least sold ?\n",
    "\n",
    "- which pizza are the top revenue generating pizza?"
   ]
  },
  {
   "cell_type": "markdown",
   "id": "249e825d",
   "metadata": {},
   "source": [
    "# Data Preparation"
   ]
  },
  {
   "cell_type": "markdown",
   "id": "8e0193e2",
   "metadata": {},
   "source": [
    "## Importing the Libraries"
   ]
  },
  {
   "cell_type": "code",
   "execution_count": 1,
   "id": "73e2f448",
   "metadata": {},
   "outputs": [],
   "source": [
    "#import the necessary packages\n",
    "import pandas as pd\n",
    "import numpy as np\n",
    "import seaborn as sns\n",
    "import matplotlib.pyplot as plt\n",
    "%matplotlib inline"
   ]
  },
  {
   "cell_type": "markdown",
   "id": "ec521a85",
   "metadata": {},
   "source": [
    "## Loading the datasets"
   ]
  },
  {
   "cell_type": "code",
   "execution_count": 2,
   "id": "425c7a99",
   "metadata": {},
   "outputs": [],
   "source": [
    "#loading the 'order' data\n",
    "orders = pd.read_csv('orders.csv')"
   ]
  },
  {
   "cell_type": "code",
   "execution_count": 3,
   "id": "56c93e52",
   "metadata": {},
   "outputs": [
    {
     "data": {
      "text/html": [
       "<div>\n",
       "<style scoped>\n",
       "    .dataframe tbody tr th:only-of-type {\n",
       "        vertical-align: middle;\n",
       "    }\n",
       "\n",
       "    .dataframe tbody tr th {\n",
       "        vertical-align: top;\n",
       "    }\n",
       "\n",
       "    .dataframe thead th {\n",
       "        text-align: right;\n",
       "    }\n",
       "</style>\n",
       "<table border=\"1\" class=\"dataframe\">\n",
       "  <thead>\n",
       "    <tr style=\"text-align: right;\">\n",
       "      <th></th>\n",
       "      <th>order_id</th>\n",
       "      <th>date</th>\n",
       "      <th>time</th>\n",
       "    </tr>\n",
       "  </thead>\n",
       "  <tbody>\n",
       "    <tr>\n",
       "      <th>0</th>\n",
       "      <td>1</td>\n",
       "      <td>2015-01-01</td>\n",
       "      <td>11:38:36</td>\n",
       "    </tr>\n",
       "    <tr>\n",
       "      <th>1</th>\n",
       "      <td>2</td>\n",
       "      <td>2015-01-01</td>\n",
       "      <td>11:57:40</td>\n",
       "    </tr>\n",
       "    <tr>\n",
       "      <th>2</th>\n",
       "      <td>3</td>\n",
       "      <td>2015-01-01</td>\n",
       "      <td>12:12:28</td>\n",
       "    </tr>\n",
       "    <tr>\n",
       "      <th>3</th>\n",
       "      <td>4</td>\n",
       "      <td>2015-01-01</td>\n",
       "      <td>12:16:31</td>\n",
       "    </tr>\n",
       "    <tr>\n",
       "      <th>4</th>\n",
       "      <td>5</td>\n",
       "      <td>2015-01-01</td>\n",
       "      <td>12:21:30</td>\n",
       "    </tr>\n",
       "  </tbody>\n",
       "</table>\n",
       "</div>"
      ],
      "text/plain": [
       "   order_id        date      time\n",
       "0         1  2015-01-01  11:38:36\n",
       "1         2  2015-01-01  11:57:40\n",
       "2         3  2015-01-01  12:12:28\n",
       "3         4  2015-01-01  12:16:31\n",
       "4         5  2015-01-01  12:21:30"
      ]
     },
     "execution_count": 3,
     "metadata": {},
     "output_type": "execute_result"
    }
   ],
   "source": [
    "#reading the first few lines of the order table\n",
    "orders.head()"
   ]
  },
  {
   "cell_type": "code",
   "execution_count": 4,
   "id": "73cdfc23",
   "metadata": {},
   "outputs": [],
   "source": [
    "#loading the 'order details' data\n",
    "ord_details = pd.read_csv('order_details.csv')"
   ]
  },
  {
   "cell_type": "code",
   "execution_count": 5,
   "id": "3412c807",
   "metadata": {},
   "outputs": [
    {
     "data": {
      "text/html": [
       "<div>\n",
       "<style scoped>\n",
       "    .dataframe tbody tr th:only-of-type {\n",
       "        vertical-align: middle;\n",
       "    }\n",
       "\n",
       "    .dataframe tbody tr th {\n",
       "        vertical-align: top;\n",
       "    }\n",
       "\n",
       "    .dataframe thead th {\n",
       "        text-align: right;\n",
       "    }\n",
       "</style>\n",
       "<table border=\"1\" class=\"dataframe\">\n",
       "  <thead>\n",
       "    <tr style=\"text-align: right;\">\n",
       "      <th></th>\n",
       "      <th>order_details_id</th>\n",
       "      <th>order_id</th>\n",
       "      <th>pizza_id</th>\n",
       "      <th>quantity</th>\n",
       "    </tr>\n",
       "  </thead>\n",
       "  <tbody>\n",
       "    <tr>\n",
       "      <th>0</th>\n",
       "      <td>1</td>\n",
       "      <td>1</td>\n",
       "      <td>hawaiian_m</td>\n",
       "      <td>1</td>\n",
       "    </tr>\n",
       "    <tr>\n",
       "      <th>1</th>\n",
       "      <td>2</td>\n",
       "      <td>2</td>\n",
       "      <td>classic_dlx_m</td>\n",
       "      <td>1</td>\n",
       "    </tr>\n",
       "    <tr>\n",
       "      <th>2</th>\n",
       "      <td>3</td>\n",
       "      <td>2</td>\n",
       "      <td>five_cheese_l</td>\n",
       "      <td>1</td>\n",
       "    </tr>\n",
       "    <tr>\n",
       "      <th>3</th>\n",
       "      <td>4</td>\n",
       "      <td>2</td>\n",
       "      <td>ital_supr_l</td>\n",
       "      <td>1</td>\n",
       "    </tr>\n",
       "    <tr>\n",
       "      <th>4</th>\n",
       "      <td>5</td>\n",
       "      <td>2</td>\n",
       "      <td>mexicana_m</td>\n",
       "      <td>1</td>\n",
       "    </tr>\n",
       "  </tbody>\n",
       "</table>\n",
       "</div>"
      ],
      "text/plain": [
       "   order_details_id  order_id       pizza_id  quantity\n",
       "0                 1         1     hawaiian_m         1\n",
       "1                 2         2  classic_dlx_m         1\n",
       "2                 3         2  five_cheese_l         1\n",
       "3                 4         2    ital_supr_l         1\n",
       "4                 5         2     mexicana_m         1"
      ]
     },
     "execution_count": 5,
     "metadata": {},
     "output_type": "execute_result"
    }
   ],
   "source": [
    "#reading the first few lines of the order details table\n",
    "ord_details.head()"
   ]
  },
  {
   "cell_type": "code",
   "execution_count": 6,
   "id": "3e2788a7",
   "metadata": {},
   "outputs": [],
   "source": [
    "#loading the 'pizza types' data\n",
    "pizza_types = pd.read_csv('pizza_types.csv', encoding='ISO-8859-1')"
   ]
  },
  {
   "cell_type": "code",
   "execution_count": 7,
   "id": "6b22e99a",
   "metadata": {},
   "outputs": [
    {
     "data": {
      "text/html": [
       "<div>\n",
       "<style scoped>\n",
       "    .dataframe tbody tr th:only-of-type {\n",
       "        vertical-align: middle;\n",
       "    }\n",
       "\n",
       "    .dataframe tbody tr th {\n",
       "        vertical-align: top;\n",
       "    }\n",
       "\n",
       "    .dataframe thead th {\n",
       "        text-align: right;\n",
       "    }\n",
       "</style>\n",
       "<table border=\"1\" class=\"dataframe\">\n",
       "  <thead>\n",
       "    <tr style=\"text-align: right;\">\n",
       "      <th></th>\n",
       "      <th>pizza_type_id</th>\n",
       "      <th>name</th>\n",
       "      <th>category</th>\n",
       "      <th>ingredients</th>\n",
       "    </tr>\n",
       "  </thead>\n",
       "  <tbody>\n",
       "    <tr>\n",
       "      <th>0</th>\n",
       "      <td>bbq_ckn</td>\n",
       "      <td>The Barbecue Chicken Pizza</td>\n",
       "      <td>Chicken</td>\n",
       "      <td>Barbecued Chicken, Red Peppers, Green Peppers,...</td>\n",
       "    </tr>\n",
       "    <tr>\n",
       "      <th>1</th>\n",
       "      <td>cali_ckn</td>\n",
       "      <td>The California Chicken Pizza</td>\n",
       "      <td>Chicken</td>\n",
       "      <td>Chicken, Artichoke, Spinach, Garlic, Jalapeno ...</td>\n",
       "    </tr>\n",
       "    <tr>\n",
       "      <th>2</th>\n",
       "      <td>ckn_alfredo</td>\n",
       "      <td>The Chicken Alfredo Pizza</td>\n",
       "      <td>Chicken</td>\n",
       "      <td>Chicken, Red Onions, Red Peppers, Mushrooms, A...</td>\n",
       "    </tr>\n",
       "    <tr>\n",
       "      <th>3</th>\n",
       "      <td>ckn_pesto</td>\n",
       "      <td>The Chicken Pesto Pizza</td>\n",
       "      <td>Chicken</td>\n",
       "      <td>Chicken, Tomatoes, Red Peppers, Spinach, Garli...</td>\n",
       "    </tr>\n",
       "    <tr>\n",
       "      <th>4</th>\n",
       "      <td>southw_ckn</td>\n",
       "      <td>The Southwest Chicken Pizza</td>\n",
       "      <td>Chicken</td>\n",
       "      <td>Chicken, Tomatoes, Red Peppers, Red Onions, Ja...</td>\n",
       "    </tr>\n",
       "  </tbody>\n",
       "</table>\n",
       "</div>"
      ],
      "text/plain": [
       "  pizza_type_id                          name category  \\\n",
       "0       bbq_ckn    The Barbecue Chicken Pizza  Chicken   \n",
       "1      cali_ckn  The California Chicken Pizza  Chicken   \n",
       "2   ckn_alfredo     The Chicken Alfredo Pizza  Chicken   \n",
       "3     ckn_pesto       The Chicken Pesto Pizza  Chicken   \n",
       "4    southw_ckn   The Southwest Chicken Pizza  Chicken   \n",
       "\n",
       "                                         ingredients  \n",
       "0  Barbecued Chicken, Red Peppers, Green Peppers,...  \n",
       "1  Chicken, Artichoke, Spinach, Garlic, Jalapeno ...  \n",
       "2  Chicken, Red Onions, Red Peppers, Mushrooms, A...  \n",
       "3  Chicken, Tomatoes, Red Peppers, Spinach, Garli...  \n",
       "4  Chicken, Tomatoes, Red Peppers, Red Onions, Ja...  "
      ]
     },
     "execution_count": 7,
     "metadata": {},
     "output_type": "execute_result"
    }
   ],
   "source": [
    "#reading the first few lines of the pizza type table\n",
    "pizza_types.head()"
   ]
  },
  {
   "cell_type": "code",
   "execution_count": 8,
   "id": "e6784075",
   "metadata": {},
   "outputs": [],
   "source": [
    "#loading the 'pizza' data\n",
    "pizza = pd.read_csv('pizzas.csv')"
   ]
  },
  {
   "cell_type": "code",
   "execution_count": 9,
   "id": "d8af9a23",
   "metadata": {},
   "outputs": [
    {
     "data": {
      "text/html": [
       "<div>\n",
       "<style scoped>\n",
       "    .dataframe tbody tr th:only-of-type {\n",
       "        vertical-align: middle;\n",
       "    }\n",
       "\n",
       "    .dataframe tbody tr th {\n",
       "        vertical-align: top;\n",
       "    }\n",
       "\n",
       "    .dataframe thead th {\n",
       "        text-align: right;\n",
       "    }\n",
       "</style>\n",
       "<table border=\"1\" class=\"dataframe\">\n",
       "  <thead>\n",
       "    <tr style=\"text-align: right;\">\n",
       "      <th></th>\n",
       "      <th>pizza_id</th>\n",
       "      <th>pizza_type_id</th>\n",
       "      <th>size</th>\n",
       "      <th>price</th>\n",
       "    </tr>\n",
       "  </thead>\n",
       "  <tbody>\n",
       "    <tr>\n",
       "      <th>0</th>\n",
       "      <td>bbq_ckn_s</td>\n",
       "      <td>bbq_ckn</td>\n",
       "      <td>S</td>\n",
       "      <td>12.75</td>\n",
       "    </tr>\n",
       "    <tr>\n",
       "      <th>1</th>\n",
       "      <td>bbq_ckn_m</td>\n",
       "      <td>bbq_ckn</td>\n",
       "      <td>M</td>\n",
       "      <td>16.75</td>\n",
       "    </tr>\n",
       "    <tr>\n",
       "      <th>2</th>\n",
       "      <td>bbq_ckn_l</td>\n",
       "      <td>bbq_ckn</td>\n",
       "      <td>L</td>\n",
       "      <td>20.75</td>\n",
       "    </tr>\n",
       "    <tr>\n",
       "      <th>3</th>\n",
       "      <td>cali_ckn_s</td>\n",
       "      <td>cali_ckn</td>\n",
       "      <td>S</td>\n",
       "      <td>12.75</td>\n",
       "    </tr>\n",
       "    <tr>\n",
       "      <th>4</th>\n",
       "      <td>cali_ckn_m</td>\n",
       "      <td>cali_ckn</td>\n",
       "      <td>M</td>\n",
       "      <td>16.75</td>\n",
       "    </tr>\n",
       "  </tbody>\n",
       "</table>\n",
       "</div>"
      ],
      "text/plain": [
       "     pizza_id pizza_type_id size  price\n",
       "0   bbq_ckn_s       bbq_ckn    S  12.75\n",
       "1   bbq_ckn_m       bbq_ckn    M  16.75\n",
       "2   bbq_ckn_l       bbq_ckn    L  20.75\n",
       "3  cali_ckn_s      cali_ckn    S  12.75\n",
       "4  cali_ckn_m      cali_ckn    M  16.75"
      ]
     },
     "execution_count": 9,
     "metadata": {},
     "output_type": "execute_result"
    }
   ],
   "source": [
    "#reading the first few lines of the pizza table\n",
    "pizza.head()"
   ]
  },
  {
   "cell_type": "markdown",
   "id": "d9647b9b",
   "metadata": {},
   "source": [
    "# Data Wrangling"
   ]
  },
  {
   "cell_type": "markdown",
   "id": "cf9b92a9",
   "metadata": {},
   "source": [
    "## Assessing Orders table"
   ]
  },
  {
   "cell_type": "code",
   "execution_count": 10,
   "id": "13441c77",
   "metadata": {},
   "outputs": [
    {
     "data": {
      "text/plain": [
       "(21350, 3)"
      ]
     },
     "execution_count": 10,
     "metadata": {},
     "output_type": "execute_result"
    }
   ],
   "source": [
    "#understanding the shape\n",
    "orders.shape"
   ]
  },
  {
   "cell_type": "code",
   "execution_count": 11,
   "id": "6fbdca07",
   "metadata": {},
   "outputs": [
    {
     "data": {
      "text/plain": [
       "0"
      ]
     },
     "execution_count": 11,
     "metadata": {},
     "output_type": "execute_result"
    }
   ],
   "source": [
    "#checking for duplicates\n",
    "orders.duplicated().sum()"
   ]
  },
  {
   "cell_type": "code",
   "execution_count": 12,
   "id": "30ccf692",
   "metadata": {},
   "outputs": [
    {
     "data": {
      "text/plain": [
       "order_id    0\n",
       "date        0\n",
       "time        0\n",
       "dtype: int64"
      ]
     },
     "execution_count": 12,
     "metadata": {},
     "output_type": "execute_result"
    }
   ],
   "source": [
    "#checking for missing values\n",
    "orders.isna().sum()"
   ]
  },
  {
   "cell_type": "code",
   "execution_count": 13,
   "id": "975d18d4",
   "metadata": {},
   "outputs": [
    {
     "data": {
      "text/plain": [
       "order_id     int64\n",
       "date        object\n",
       "time        object\n",
       "dtype: object"
      ]
     },
     "execution_count": 13,
     "metadata": {},
     "output_type": "execute_result"
    }
   ],
   "source": [
    "#checking the datatypes\n",
    "orders.dtypes"
   ]
  },
  {
   "cell_type": "markdown",
   "id": "f53d7df9",
   "metadata": {},
   "source": [
    "- Change the datatype for date and time column to datetime"
   ]
  },
  {
   "cell_type": "markdown",
   "id": "d3cbd414",
   "metadata": {},
   "source": [
    "### Cleaning and Extraction"
   ]
  },
  {
   "cell_type": "code",
   "execution_count": 14,
   "id": "20d47bf5",
   "metadata": {},
   "outputs": [],
   "source": [
    "#change the datatype of date to datetime\n",
    "orders['date'] = orders['date'].astype('datetime64')"
   ]
  },
  {
   "cell_type": "code",
   "execution_count": 15,
   "id": "b1dabec3",
   "metadata": {},
   "outputs": [],
   "source": [
    "#Extract months from date\n",
    "orders['month'] = orders['date'].dt.month"
   ]
  },
  {
   "cell_type": "code",
   "execution_count": 16,
   "id": "fa0737cd",
   "metadata": {},
   "outputs": [],
   "source": [
    "#Extract month name\n",
    "orders['month_name'] = orders['date'].dt.month_name()"
   ]
  },
  {
   "cell_type": "code",
   "execution_count": 17,
   "id": "a3d40e78",
   "metadata": {},
   "outputs": [],
   "source": [
    "#Extract quarter from date\n",
    "orders['quarter'] = orders['date'].dt.quarter"
   ]
  },
  {
   "cell_type": "code",
   "execution_count": 18,
   "id": "c250d615",
   "metadata": {},
   "outputs": [],
   "source": [
    "#Change the datatype of hour to datetime and extract the hour\n",
    "orders['hour'] = orders['time'].astype('datetime64').dt.hour"
   ]
  },
  {
   "cell_type": "code",
   "execution_count": 19,
   "id": "f87e5cab",
   "metadata": {},
   "outputs": [
    {
     "data": {
      "text/html": [
       "<div>\n",
       "<style scoped>\n",
       "    .dataframe tbody tr th:only-of-type {\n",
       "        vertical-align: middle;\n",
       "    }\n",
       "\n",
       "    .dataframe tbody tr th {\n",
       "        vertical-align: top;\n",
       "    }\n",
       "\n",
       "    .dataframe thead th {\n",
       "        text-align: right;\n",
       "    }\n",
       "</style>\n",
       "<table border=\"1\" class=\"dataframe\">\n",
       "  <thead>\n",
       "    <tr style=\"text-align: right;\">\n",
       "      <th></th>\n",
       "      <th>order_id</th>\n",
       "      <th>date</th>\n",
       "      <th>time</th>\n",
       "      <th>month</th>\n",
       "      <th>month_name</th>\n",
       "      <th>quarter</th>\n",
       "      <th>hour</th>\n",
       "    </tr>\n",
       "  </thead>\n",
       "  <tbody>\n",
       "    <tr>\n",
       "      <th>0</th>\n",
       "      <td>1</td>\n",
       "      <td>2015-01-01</td>\n",
       "      <td>11:38:36</td>\n",
       "      <td>1</td>\n",
       "      <td>January</td>\n",
       "      <td>1</td>\n",
       "      <td>11</td>\n",
       "    </tr>\n",
       "    <tr>\n",
       "      <th>1</th>\n",
       "      <td>2</td>\n",
       "      <td>2015-01-01</td>\n",
       "      <td>11:57:40</td>\n",
       "      <td>1</td>\n",
       "      <td>January</td>\n",
       "      <td>1</td>\n",
       "      <td>11</td>\n",
       "    </tr>\n",
       "    <tr>\n",
       "      <th>2</th>\n",
       "      <td>3</td>\n",
       "      <td>2015-01-01</td>\n",
       "      <td>12:12:28</td>\n",
       "      <td>1</td>\n",
       "      <td>January</td>\n",
       "      <td>1</td>\n",
       "      <td>12</td>\n",
       "    </tr>\n",
       "    <tr>\n",
       "      <th>3</th>\n",
       "      <td>4</td>\n",
       "      <td>2015-01-01</td>\n",
       "      <td>12:16:31</td>\n",
       "      <td>1</td>\n",
       "      <td>January</td>\n",
       "      <td>1</td>\n",
       "      <td>12</td>\n",
       "    </tr>\n",
       "    <tr>\n",
       "      <th>4</th>\n",
       "      <td>5</td>\n",
       "      <td>2015-01-01</td>\n",
       "      <td>12:21:30</td>\n",
       "      <td>1</td>\n",
       "      <td>January</td>\n",
       "      <td>1</td>\n",
       "      <td>12</td>\n",
       "    </tr>\n",
       "  </tbody>\n",
       "</table>\n",
       "</div>"
      ],
      "text/plain": [
       "   order_id       date      time  month month_name  quarter  hour\n",
       "0         1 2015-01-01  11:38:36      1    January        1    11\n",
       "1         2 2015-01-01  11:57:40      1    January        1    11\n",
       "2         3 2015-01-01  12:12:28      1    January        1    12\n",
       "3         4 2015-01-01  12:16:31      1    January        1    12\n",
       "4         5 2015-01-01  12:21:30      1    January        1    12"
      ]
     },
     "execution_count": 19,
     "metadata": {},
     "output_type": "execute_result"
    }
   ],
   "source": [
    "#displaying a few lines of the table\n",
    "orders.head()"
   ]
  },
  {
   "cell_type": "markdown",
   "id": "a43fee81",
   "metadata": {},
   "source": [
    "## Assessing Order_details table"
   ]
  },
  {
   "cell_type": "code",
   "execution_count": 20,
   "id": "54a3fdb1",
   "metadata": {},
   "outputs": [
    {
     "data": {
      "text/plain": [
       "order_details_id    0\n",
       "order_id            0\n",
       "pizza_id            0\n",
       "quantity            0\n",
       "dtype: int64"
      ]
     },
     "execution_count": 20,
     "metadata": {},
     "output_type": "execute_result"
    }
   ],
   "source": [
    "#checking missing values\n",
    "ord_details.isna().sum()"
   ]
  },
  {
   "cell_type": "code",
   "execution_count": 21,
   "id": "3989fc1c",
   "metadata": {},
   "outputs": [
    {
     "data": {
      "text/plain": [
       "0"
      ]
     },
     "execution_count": 21,
     "metadata": {},
     "output_type": "execute_result"
    }
   ],
   "source": [
    "#checking for duplicates\n",
    "ord_details.duplicated().sum()"
   ]
  },
  {
   "cell_type": "code",
   "execution_count": 22,
   "id": "f1a32891",
   "metadata": {},
   "outputs": [
    {
     "data": {
      "text/plain": [
       "order_details_id     int64\n",
       "order_id             int64\n",
       "pizza_id            object\n",
       "quantity             int64\n",
       "dtype: object"
      ]
     },
     "execution_count": 22,
     "metadata": {},
     "output_type": "execute_result"
    }
   ],
   "source": [
    "#checking datatypes\n",
    "ord_details.dtypes"
   ]
  },
  {
   "cell_type": "markdown",
   "id": "c413b4ab",
   "metadata": {},
   "source": [
    "## Assessing Pizza_types table"
   ]
  },
  {
   "cell_type": "code",
   "execution_count": 23,
   "id": "17331a1d",
   "metadata": {},
   "outputs": [
    {
     "data": {
      "text/plain": [
       "pizza_type_id    0\n",
       "name             0\n",
       "category         0\n",
       "ingredients      0\n",
       "dtype: int64"
      ]
     },
     "execution_count": 23,
     "metadata": {},
     "output_type": "execute_result"
    }
   ],
   "source": [
    "#checking missing values\n",
    "pizza_types.isna().sum()"
   ]
  },
  {
   "cell_type": "code",
   "execution_count": 24,
   "id": "43f284a4",
   "metadata": {},
   "outputs": [
    {
     "data": {
      "text/plain": [
       "0"
      ]
     },
     "execution_count": 24,
     "metadata": {},
     "output_type": "execute_result"
    }
   ],
   "source": [
    "#checking for duplicates\n",
    "pizza_types.duplicated().sum()"
   ]
  },
  {
   "cell_type": "code",
   "execution_count": 25,
   "id": "6d1ca593",
   "metadata": {},
   "outputs": [
    {
     "data": {
      "text/plain": [
       "pizza_type_id    object\n",
       "name             object\n",
       "category         object\n",
       "ingredients      object\n",
       "dtype: object"
      ]
     },
     "execution_count": 25,
     "metadata": {},
     "output_type": "execute_result"
    }
   ],
   "source": [
    "#checking the datatypes\n",
    "pizza_types.dtypes"
   ]
  },
  {
   "cell_type": "markdown",
   "id": "d89204b9",
   "metadata": {},
   "source": [
    "## Assessing Pizzas table"
   ]
  },
  {
   "cell_type": "code",
   "execution_count": 26,
   "id": "94a6ef0e",
   "metadata": {},
   "outputs": [
    {
     "data": {
      "text/plain": [
       "pizza_id          object\n",
       "pizza_type_id     object\n",
       "size              object\n",
       "price            float64\n",
       "dtype: object"
      ]
     },
     "execution_count": 26,
     "metadata": {},
     "output_type": "execute_result"
    }
   ],
   "source": [
    "#checking datatypes\n",
    "pizza.dtypes"
   ]
  },
  {
   "cell_type": "code",
   "execution_count": 27,
   "id": "3a296cdd",
   "metadata": {},
   "outputs": [
    {
     "data": {
      "text/plain": [
       "0"
      ]
     },
     "execution_count": 27,
     "metadata": {},
     "output_type": "execute_result"
    }
   ],
   "source": [
    "#checking for duplicates\n",
    "pizza.duplicated().sum()"
   ]
  },
  {
   "cell_type": "code",
   "execution_count": 28,
   "id": "8d4c3215",
   "metadata": {},
   "outputs": [
    {
     "data": {
      "text/plain": [
       "pizza_id         0\n",
       "pizza_type_id    0\n",
       "size             0\n",
       "price            0\n",
       "dtype: int64"
      ]
     },
     "execution_count": 28,
     "metadata": {},
     "output_type": "execute_result"
    }
   ],
   "source": [
    "#checking missing values\n",
    "pizza.isna().sum()"
   ]
  },
  {
   "cell_type": "markdown",
   "id": "8a895a74",
   "metadata": {},
   "source": [
    "# Combining the dataset "
   ]
  },
  {
   "cell_type": "markdown",
   "id": "5d84c9e9",
   "metadata": {},
   "source": [
    "## Merging the four CSV files"
   ]
  },
  {
   "cell_type": "code",
   "execution_count": 29,
   "id": "21f5ec1e",
   "metadata": {},
   "outputs": [],
   "source": [
    "#merging the dataset for analysis\n",
    "merged_data = orders.merge(ord_details, on='order_id').merge(pizza, on='pizza_id').merge(pizza_types, on='pizza_type_id')"
   ]
  },
  {
   "cell_type": "code",
   "execution_count": 30,
   "id": "5af18fa5",
   "metadata": {},
   "outputs": [
    {
     "data": {
      "text/html": [
       "<div>\n",
       "<style scoped>\n",
       "    .dataframe tbody tr th:only-of-type {\n",
       "        vertical-align: middle;\n",
       "    }\n",
       "\n",
       "    .dataframe tbody tr th {\n",
       "        vertical-align: top;\n",
       "    }\n",
       "\n",
       "    .dataframe thead th {\n",
       "        text-align: right;\n",
       "    }\n",
       "</style>\n",
       "<table border=\"1\" class=\"dataframe\">\n",
       "  <thead>\n",
       "    <tr style=\"text-align: right;\">\n",
       "      <th></th>\n",
       "      <th>order_id</th>\n",
       "      <th>date</th>\n",
       "      <th>time</th>\n",
       "      <th>month</th>\n",
       "      <th>month_name</th>\n",
       "      <th>quarter</th>\n",
       "      <th>hour</th>\n",
       "      <th>order_details_id</th>\n",
       "      <th>pizza_id</th>\n",
       "      <th>quantity</th>\n",
       "      <th>pizza_type_id</th>\n",
       "      <th>size</th>\n",
       "      <th>price</th>\n",
       "      <th>name</th>\n",
       "      <th>category</th>\n",
       "      <th>ingredients</th>\n",
       "    </tr>\n",
       "  </thead>\n",
       "  <tbody>\n",
       "    <tr>\n",
       "      <th>0</th>\n",
       "      <td>1</td>\n",
       "      <td>2015-01-01</td>\n",
       "      <td>11:38:36</td>\n",
       "      <td>1</td>\n",
       "      <td>January</td>\n",
       "      <td>1</td>\n",
       "      <td>11</td>\n",
       "      <td>1</td>\n",
       "      <td>hawaiian_m</td>\n",
       "      <td>1</td>\n",
       "      <td>hawaiian</td>\n",
       "      <td>M</td>\n",
       "      <td>13.25</td>\n",
       "      <td>The Hawaiian Pizza</td>\n",
       "      <td>Classic</td>\n",
       "      <td>Sliced Ham, Pineapple, Mozzarella Cheese</td>\n",
       "    </tr>\n",
       "    <tr>\n",
       "      <th>1</th>\n",
       "      <td>77</td>\n",
       "      <td>2015-01-02</td>\n",
       "      <td>12:22:46</td>\n",
       "      <td>1</td>\n",
       "      <td>January</td>\n",
       "      <td>1</td>\n",
       "      <td>12</td>\n",
       "      <td>179</td>\n",
       "      <td>hawaiian_m</td>\n",
       "      <td>1</td>\n",
       "      <td>hawaiian</td>\n",
       "      <td>M</td>\n",
       "      <td>13.25</td>\n",
       "      <td>The Hawaiian Pizza</td>\n",
       "      <td>Classic</td>\n",
       "      <td>Sliced Ham, Pineapple, Mozzarella Cheese</td>\n",
       "    </tr>\n",
       "    <tr>\n",
       "      <th>2</th>\n",
       "      <td>146</td>\n",
       "      <td>2015-01-03</td>\n",
       "      <td>14:22:10</td>\n",
       "      <td>1</td>\n",
       "      <td>January</td>\n",
       "      <td>1</td>\n",
       "      <td>14</td>\n",
       "      <td>357</td>\n",
       "      <td>hawaiian_m</td>\n",
       "      <td>1</td>\n",
       "      <td>hawaiian</td>\n",
       "      <td>M</td>\n",
       "      <td>13.25</td>\n",
       "      <td>The Hawaiian Pizza</td>\n",
       "      <td>Classic</td>\n",
       "      <td>Sliced Ham, Pineapple, Mozzarella Cheese</td>\n",
       "    </tr>\n",
       "    <tr>\n",
       "      <th>3</th>\n",
       "      <td>163</td>\n",
       "      <td>2015-01-03</td>\n",
       "      <td>16:54:54</td>\n",
       "      <td>1</td>\n",
       "      <td>January</td>\n",
       "      <td>1</td>\n",
       "      <td>16</td>\n",
       "      <td>389</td>\n",
       "      <td>hawaiian_m</td>\n",
       "      <td>1</td>\n",
       "      <td>hawaiian</td>\n",
       "      <td>M</td>\n",
       "      <td>13.25</td>\n",
       "      <td>The Hawaiian Pizza</td>\n",
       "      <td>Classic</td>\n",
       "      <td>Sliced Ham, Pineapple, Mozzarella Cheese</td>\n",
       "    </tr>\n",
       "    <tr>\n",
       "      <th>4</th>\n",
       "      <td>247</td>\n",
       "      <td>2015-01-04</td>\n",
       "      <td>20:55:29</td>\n",
       "      <td>1</td>\n",
       "      <td>January</td>\n",
       "      <td>1</td>\n",
       "      <td>20</td>\n",
       "      <td>568</td>\n",
       "      <td>hawaiian_m</td>\n",
       "      <td>1</td>\n",
       "      <td>hawaiian</td>\n",
       "      <td>M</td>\n",
       "      <td>13.25</td>\n",
       "      <td>The Hawaiian Pizza</td>\n",
       "      <td>Classic</td>\n",
       "      <td>Sliced Ham, Pineapple, Mozzarella Cheese</td>\n",
       "    </tr>\n",
       "  </tbody>\n",
       "</table>\n",
       "</div>"
      ],
      "text/plain": [
       "   order_id       date      time  month month_name  quarter  hour  \\\n",
       "0         1 2015-01-01  11:38:36      1    January        1    11   \n",
       "1        77 2015-01-02  12:22:46      1    January        1    12   \n",
       "2       146 2015-01-03  14:22:10      1    January        1    14   \n",
       "3       163 2015-01-03  16:54:54      1    January        1    16   \n",
       "4       247 2015-01-04  20:55:29      1    January        1    20   \n",
       "\n",
       "   order_details_id    pizza_id  quantity pizza_type_id size  price  \\\n",
       "0                 1  hawaiian_m         1      hawaiian    M  13.25   \n",
       "1               179  hawaiian_m         1      hawaiian    M  13.25   \n",
       "2               357  hawaiian_m         1      hawaiian    M  13.25   \n",
       "3               389  hawaiian_m         1      hawaiian    M  13.25   \n",
       "4               568  hawaiian_m         1      hawaiian    M  13.25   \n",
       "\n",
       "                 name category                               ingredients  \n",
       "0  The Hawaiian Pizza  Classic  Sliced Ham, Pineapple, Mozzarella Cheese  \n",
       "1  The Hawaiian Pizza  Classic  Sliced Ham, Pineapple, Mozzarella Cheese  \n",
       "2  The Hawaiian Pizza  Classic  Sliced Ham, Pineapple, Mozzarella Cheese  \n",
       "3  The Hawaiian Pizza  Classic  Sliced Ham, Pineapple, Mozzarella Cheese  \n",
       "4  The Hawaiian Pizza  Classic  Sliced Ham, Pineapple, Mozzarella Cheese  "
      ]
     },
     "execution_count": 30,
     "metadata": {},
     "output_type": "execute_result"
    }
   ],
   "source": [
    "#confirming the dataset have been merged\n",
    "merged_data.head()"
   ]
  },
  {
   "cell_type": "markdown",
   "id": "405382a1",
   "metadata": {},
   "source": [
    "### Dropping unnecessary column"
   ]
  },
  {
   "cell_type": "code",
   "execution_count": 31,
   "id": "52c0f857",
   "metadata": {},
   "outputs": [],
   "source": [
    "#dropping unnecessary column 'ingredients'\n",
    "merged_data.drop('ingredients', axis=1, inplace=True)"
   ]
  },
  {
   "cell_type": "code",
   "execution_count": 32,
   "id": "a42e6ee3",
   "metadata": {},
   "outputs": [
    {
     "data": {
      "text/plain": [
       "Index(['order_id', 'date', 'time', 'month', 'month_name', 'quarter', 'hour',\n",
       "       'order_details_id', 'pizza_id', 'quantity', 'pizza_type_id', 'size',\n",
       "       'price', 'name', 'category'],\n",
       "      dtype='object')"
      ]
     },
     "execution_count": 32,
     "metadata": {},
     "output_type": "execute_result"
    }
   ],
   "source": [
    "#confirming the column have been dropped\n",
    "merged_data.columns"
   ]
  },
  {
   "cell_type": "markdown",
   "id": "548048f7",
   "metadata": {},
   "source": [
    "### Creating a Revenue column"
   ]
  },
  {
   "cell_type": "code",
   "execution_count": 33,
   "id": "c538b851",
   "metadata": {},
   "outputs": [],
   "source": [
    "#creating a variable revenue\n",
    "merged_data['revenue'] = merged_data['quantity'] * merged_data['price']"
   ]
  },
  {
   "cell_type": "code",
   "execution_count": 34,
   "id": "30e99ede",
   "metadata": {},
   "outputs": [
    {
     "name": "stdout",
     "output_type": "stream",
     "text": [
      "<class 'pandas.core.frame.DataFrame'>\n",
      "Int64Index: 48620 entries, 0 to 48619\n",
      "Data columns (total 16 columns):\n",
      " #   Column            Non-Null Count  Dtype         \n",
      "---  ------            --------------  -----         \n",
      " 0   order_id          48620 non-null  int64         \n",
      " 1   date              48620 non-null  datetime64[ns]\n",
      " 2   time              48620 non-null  object        \n",
      " 3   month             48620 non-null  int64         \n",
      " 4   month_name        48620 non-null  object        \n",
      " 5   quarter           48620 non-null  int64         \n",
      " 6   hour              48620 non-null  int64         \n",
      " 7   order_details_id  48620 non-null  int64         \n",
      " 8   pizza_id          48620 non-null  object        \n",
      " 9   quantity          48620 non-null  int64         \n",
      " 10  pizza_type_id     48620 non-null  object        \n",
      " 11  size              48620 non-null  object        \n",
      " 12  price             48620 non-null  float64       \n",
      " 13  name              48620 non-null  object        \n",
      " 14  category          48620 non-null  object        \n",
      " 15  revenue           48620 non-null  float64       \n",
      "dtypes: datetime64[ns](1), float64(2), int64(6), object(7)\n",
      "memory usage: 6.3+ MB\n"
     ]
    }
   ],
   "source": [
    "#confirming that revenue column has been created and its datatype its float\n",
    "merged_data.info()"
   ]
  },
  {
   "cell_type": "markdown",
   "id": "35464e7e",
   "metadata": {},
   "source": [
    "# Calculating KPI's"
   ]
  },
  {
   "cell_type": "markdown",
   "id": "23b48e40",
   "metadata": {},
   "source": [
    "### Total pizza types"
   ]
  },
  {
   "cell_type": "code",
   "execution_count": 35,
   "id": "8bd7035e",
   "metadata": {},
   "outputs": [
    {
     "name": "stdout",
     "output_type": "stream",
     "text": [
      "The total pizza types is:  32\n"
     ]
    }
   ],
   "source": [
    "# calculating total pizza types\n",
    "total_pizza_types = merged_data['pizza_type_id'].nunique()\n",
    "print('The total pizza types is: ', total_pizza_types)"
   ]
  },
  {
   "cell_type": "markdown",
   "id": "5a20ee9b",
   "metadata": {},
   "source": [
    "### Total business days"
   ]
  },
  {
   "cell_type": "code",
   "execution_count": 36,
   "id": "2d19a40b",
   "metadata": {},
   "outputs": [
    {
     "name": "stdout",
     "output_type": "stream",
     "text": [
      "The total business day is:  358\n"
     ]
    }
   ],
   "source": [
    "# calculating total business days\n",
    "total_days = merged_data['date'].nunique()\n",
    "print('The total business day is: ', total_days)"
   ]
  },
  {
   "cell_type": "markdown",
   "id": "87c9127b",
   "metadata": {},
   "source": [
    "### Total Customers"
   ]
  },
  {
   "cell_type": "code",
   "execution_count": 37,
   "id": "881d507f",
   "metadata": {},
   "outputs": [
    {
     "name": "stdout",
     "output_type": "stream",
     "text": [
      "The total customers is:  21350\n"
     ]
    }
   ],
   "source": [
    "# calculating total unique customers\n",
    "total_customers = merged_data['order_id'].nunique()\n",
    "print('The total customers is: ', total_customers)"
   ]
  },
  {
   "cell_type": "markdown",
   "id": "faee936f",
   "metadata": {},
   "source": [
    "### Average Daily Customers"
   ]
  },
  {
   "cell_type": "code",
   "execution_count": 41,
   "id": "b29c6e78",
   "metadata": {},
   "outputs": [
    {
     "name": "stdout",
     "output_type": "stream",
     "text": [
      "The average daily customers is:  59\n"
     ]
    }
   ],
   "source": [
    "# calculating the average daily customers\n",
    "avg_daily_customers = int(total_customers/total_days)\n",
    "print('The average daily customers is: ', avg_daily_customers)"
   ]
  },
  {
   "cell_type": "markdown",
   "id": "002c3abf",
   "metadata": {},
   "source": [
    "### Total Orders"
   ]
  },
  {
   "cell_type": "code",
   "execution_count": 42,
   "id": "adc43c78",
   "metadata": {},
   "outputs": [
    {
     "name": "stdout",
     "output_type": "stream",
     "text": [
      "The total orders is:  48620\n"
     ]
    }
   ],
   "source": [
    "# calculating total orders\n",
    "total_orders = merged_data['order_id'].count()\n",
    "print('The total orders is: ', total_orders)"
   ]
  },
  {
   "cell_type": "markdown",
   "id": "c7c63b42",
   "metadata": {},
   "source": [
    "### Average daily orders"
   ]
  },
  {
   "cell_type": "code",
   "execution_count": 43,
   "id": "bc1e9484",
   "metadata": {},
   "outputs": [
    {
     "name": "stdout",
     "output_type": "stream",
     "text": [
      "The average daily order is:  135\n"
     ]
    }
   ],
   "source": [
    "# calculating average daily order\n",
    "avg_daily_orders = int(total_orders/total_days)\n",
    "print('The average daily order is: ', avg_daily_orders)"
   ]
  },
  {
   "cell_type": "markdown",
   "id": "c349c75f",
   "metadata": {},
   "source": [
    "### Total Quantity Sold"
   ]
  },
  {
   "cell_type": "code",
   "execution_count": 44,
   "id": "ca54e2ea",
   "metadata": {},
   "outputs": [
    {
     "name": "stdout",
     "output_type": "stream",
     "text": [
      "The total quantity sold is:  49574\n"
     ]
    }
   ],
   "source": [
    "# calculating quantity sold\n",
    "total_qty_sold = merged_data['quantity'].sum()\n",
    "print('The total quantity sold is: ', total_qty_sold)"
   ]
  },
  {
   "cell_type": "markdown",
   "id": "33481575",
   "metadata": {},
   "source": [
    "### Average quantity sold per day"
   ]
  },
  {
   "cell_type": "code",
   "execution_count": 45,
   "id": "12f6e2f0",
   "metadata": {},
   "outputs": [
    {
     "name": "stdout",
     "output_type": "stream",
     "text": [
      "The average quantity sold perday is:  138\n"
     ]
    }
   ],
   "source": [
    "# calculating average quantity sold per day\n",
    "avg_qty_sold_per_day = int(total_qty_sold/total_days)\n",
    "print('The average quantity sold perday is: ',avg_qty_sold_per_day)"
   ]
  },
  {
   "cell_type": "markdown",
   "id": "917a05a0",
   "metadata": {},
   "source": [
    "### Average pizza sold per order"
   ]
  },
  {
   "cell_type": "code",
   "execution_count": 46,
   "id": "fe607ede",
   "metadata": {},
   "outputs": [
    {
     "name": "stdout",
     "output_type": "stream",
     "text": [
      "The average pizza sold per order is:  1.0\n"
     ]
    }
   ],
   "source": [
    "# calculating average pizza sold per order\n",
    "avg_pizza_sold_per_order = (total_qty_sold/total_orders).round(1)\n",
    "print('The average pizza sold per order is: ',avg_pizza_sold_per_order)"
   ]
  },
  {
   "cell_type": "markdown",
   "id": "764c56dc",
   "metadata": {},
   "source": [
    "### Total Revenue"
   ]
  },
  {
   "cell_type": "code",
   "execution_count": 47,
   "id": "23e56ce9",
   "metadata": {},
   "outputs": [
    {
     "name": "stdout",
     "output_type": "stream",
     "text": [
      "The total revenue is:  817860.05\n"
     ]
    }
   ],
   "source": [
    "# calculating total revenue generated\n",
    "total_revenue = merged_data['revenue'].sum()\n",
    "print('The total revenue is: ', total_revenue)"
   ]
  },
  {
   "cell_type": "markdown",
   "id": "6b4691df",
   "metadata": {},
   "source": [
    "### Average Order Value"
   ]
  },
  {
   "cell_type": "code",
   "execution_count": 48,
   "id": "de782ffa",
   "metadata": {},
   "outputs": [
    {
     "name": "stdout",
     "output_type": "stream",
     "text": [
      "The average order value is:  $ 16.82\n"
     ]
    }
   ],
   "source": [
    "# calculating average order value\n",
    "avg_order_value = (total_revenue/total_orders).round(2)\n",
    "print('The average order value is: ',  '$',avg_order_value)"
   ]
  },
  {
   "cell_type": "markdown",
   "id": "c91027fd",
   "metadata": {},
   "source": [
    "# Order Analysis"
   ]
  },
  {
   "cell_type": "markdown",
   "id": "28c5fab4",
   "metadata": {},
   "source": [
    "## Hourly Orders"
   ]
  },
  {
   "cell_type": "code",
   "execution_count": 49,
   "id": "5f96b3ff",
   "metadata": {},
   "outputs": [
    {
     "data": {
      "text/html": [
       "<div>\n",
       "<style scoped>\n",
       "    .dataframe tbody tr th:only-of-type {\n",
       "        vertical-align: middle;\n",
       "    }\n",
       "\n",
       "    .dataframe tbody tr th {\n",
       "        vertical-align: top;\n",
       "    }\n",
       "\n",
       "    .dataframe thead th {\n",
       "        text-align: right;\n",
       "    }\n",
       "</style>\n",
       "<table border=\"1\" class=\"dataframe\">\n",
       "  <thead>\n",
       "    <tr style=\"text-align: right;\">\n",
       "      <th></th>\n",
       "      <th>hour</th>\n",
       "      <th>total_orders</th>\n",
       "    </tr>\n",
       "  </thead>\n",
       "  <tbody>\n",
       "    <tr>\n",
       "      <th>0</th>\n",
       "      <td>9</td>\n",
       "      <td>4</td>\n",
       "    </tr>\n",
       "    <tr>\n",
       "      <th>1</th>\n",
       "      <td>10</td>\n",
       "      <td>17</td>\n",
       "    </tr>\n",
       "    <tr>\n",
       "      <th>2</th>\n",
       "      <td>11</td>\n",
       "      <td>2672</td>\n",
       "    </tr>\n",
       "    <tr>\n",
       "      <th>3</th>\n",
       "      <td>12</td>\n",
       "      <td>6543</td>\n",
       "    </tr>\n",
       "    <tr>\n",
       "      <th>4</th>\n",
       "      <td>13</td>\n",
       "      <td>6203</td>\n",
       "    </tr>\n",
       "    <tr>\n",
       "      <th>5</th>\n",
       "      <td>14</td>\n",
       "      <td>3521</td>\n",
       "    </tr>\n",
       "    <tr>\n",
       "      <th>6</th>\n",
       "      <td>15</td>\n",
       "      <td>3170</td>\n",
       "    </tr>\n",
       "    <tr>\n",
       "      <th>7</th>\n",
       "      <td>16</td>\n",
       "      <td>4185</td>\n",
       "    </tr>\n",
       "    <tr>\n",
       "      <th>8</th>\n",
       "      <td>17</td>\n",
       "      <td>5143</td>\n",
       "    </tr>\n",
       "    <tr>\n",
       "      <th>9</th>\n",
       "      <td>18</td>\n",
       "      <td>5359</td>\n",
       "    </tr>\n",
       "    <tr>\n",
       "      <th>10</th>\n",
       "      <td>19</td>\n",
       "      <td>4350</td>\n",
       "    </tr>\n",
       "    <tr>\n",
       "      <th>11</th>\n",
       "      <td>20</td>\n",
       "      <td>3487</td>\n",
       "    </tr>\n",
       "    <tr>\n",
       "      <th>12</th>\n",
       "      <td>21</td>\n",
       "      <td>2528</td>\n",
       "    </tr>\n",
       "    <tr>\n",
       "      <th>13</th>\n",
       "      <td>22</td>\n",
       "      <td>1370</td>\n",
       "    </tr>\n",
       "    <tr>\n",
       "      <th>14</th>\n",
       "      <td>23</td>\n",
       "      <td>68</td>\n",
       "    </tr>\n",
       "  </tbody>\n",
       "</table>\n",
       "</div>"
      ],
      "text/plain": [
       "   hour  total_orders\n",
       "0     9             4\n",
       "1    10            17\n",
       "2    11          2672\n",
       "3    12          6543\n",
       "4    13          6203\n",
       "5    14          3521\n",
       "6    15          3170\n",
       "7    16          4185\n",
       "8    17          5143\n",
       "9    18          5359\n",
       "10   19          4350\n",
       "11   20          3487\n",
       "12   21          2528\n",
       "13   22          1370\n",
       "14   23            68"
      ]
     },
     "execution_count": 49,
     "metadata": {},
     "output_type": "execute_result"
    }
   ],
   "source": [
    "# calculating the total orders by hour\n",
    "hourly_orders = merged_data.groupby(['hour'], as_index=False).agg(total_orders=('order_id', 'count'))\n",
    "hourly_orders['hour'] = hourly_orders['hour'].astype('category')    #converting the datatype to category\n",
    "hourly_orders"
   ]
  },
  {
   "cell_type": "code",
   "execution_count": 50,
   "id": "4395a194",
   "metadata": {
    "scrolled": false
   },
   "outputs": [
    {
     "data": {
      "image/png": "[encoded data removed]",
      "text/plain": [
       "<Figure size 1000x500 with 1 Axes>"
      ]
     },
     "metadata": {},
     "output_type": "display_data"
    }
   ],
   "source": [
    "#plotting a barchart of the hourly orders\n",
    "\n",
    "fig, ax = plt.subplots(figsize=[10,5])\n",
    "ax.bar(data=hourly_orders, x='hour', height='total_orders')\n",
    "\n",
    "ax.set_title('Hourly Orders')\n",
    "ax.set_xlabel('Hours')\n",
    "ax.set_ylabel('total orders')\n",
    "ax.spines[['top', 'right', 'left']].set_visible(False)\n",
    "ax.yaxis.set_visible(False)\n",
    "\n",
    "for index, value in enumerate(hourly_orders['total_orders'].values):\n",
    "    ax.text(index+8.7, value+100, str((value/1000).round(2))+'K')\n",
    "\n",
    "plt.show()"
   ]
  },
  {
   "cell_type": "markdown",
   "id": "9c85631f",
   "metadata": {},
   "source": [
    "- The graph shows the hourly distribution of orders: The top three hours by orders are 12pm, 1pm and 6pm. \n",
    "- The time 12pm has the highest order of about **6543** orders, followed by 1pm (**6203** orders) and then 6pm has an order of **5359**."
   ]
  },
  {
   "cell_type": "markdown",
   "id": "3bef1a27",
   "metadata": {},
   "source": [
    "## Peak Hour Orders  "
   ]
  },
  {
   "cell_type": "code",
   "execution_count": 51,
   "id": "44c66970",
   "metadata": {},
   "outputs": [],
   "source": [
    "# creating the percentage hourly orders column\n",
    "hourly_orders['%Order'] = ((hourly_orders['total_orders'] / total_orders)*100).round(2)"
   ]
  },
  {
   "cell_type": "code",
   "execution_count": 52,
   "id": "a797e851",
   "metadata": {},
   "outputs": [
    {
     "data": {
      "text/html": [
       "<div>\n",
       "<style scoped>\n",
       "    .dataframe tbody tr th:only-of-type {\n",
       "        vertical-align: middle;\n",
       "    }\n",
       "\n",
       "    .dataframe tbody tr th {\n",
       "        vertical-align: top;\n",
       "    }\n",
       "\n",
       "    .dataframe thead th {\n",
       "        text-align: right;\n",
       "    }\n",
       "</style>\n",
       "<table border=\"1\" class=\"dataframe\">\n",
       "  <thead>\n",
       "    <tr style=\"text-align: right;\">\n",
       "      <th></th>\n",
       "      <th>hour</th>\n",
       "      <th>%Order</th>\n",
       "    </tr>\n",
       "  </thead>\n",
       "  <tbody>\n",
       "    <tr>\n",
       "      <th>0</th>\n",
       "      <td>12</td>\n",
       "      <td>13.46</td>\n",
       "    </tr>\n",
       "    <tr>\n",
       "      <th>1</th>\n",
       "      <td>13</td>\n",
       "      <td>12.76</td>\n",
       "    </tr>\n",
       "    <tr>\n",
       "      <th>2</th>\n",
       "      <td>18</td>\n",
       "      <td>11.02</td>\n",
       "    </tr>\n",
       "    <tr>\n",
       "      <th>3</th>\n",
       "      <td>17</td>\n",
       "      <td>10.58</td>\n",
       "    </tr>\n",
       "    <tr>\n",
       "      <th>4</th>\n",
       "      <td>19</td>\n",
       "      <td>8.95</td>\n",
       "    </tr>\n",
       "  </tbody>\n",
       "</table>\n",
       "</div>"
      ],
      "text/plain": [
       "  hour  %Order\n",
       "0   12   13.46\n",
       "1   13   12.76\n",
       "2   18   11.02\n",
       "3   17   10.58\n",
       "4   19    8.95"
      ]
     },
     "execution_count": 52,
     "metadata": {},
     "output_type": "execute_result"
    }
   ],
   "source": [
    "#create a peak order hour dataframe\n",
    "peak_order_hour = hourly_orders[['hour', '%Order']]\n",
    "\n",
    "#Creating the top 5 peak hour percentage order dataframe\n",
    "peak_hour = peak_order_hour.sort_values('%Order', ascending=False).head(5).reset_index()\n",
    "peak_hour.drop('index', axis=1, inplace=True)\n",
    "peak_hour"
   ]
  },
  {
   "cell_type": "code",
   "execution_count": 53,
   "id": "cfa8eb96",
   "metadata": {},
   "outputs": [
    {
     "data": {
      "image/png": "[encoded data removed]",
      "text/plain": [
       "<Figure size 500x300 with 1 Axes>"
      ]
     },
     "metadata": {},
     "output_type": "display_data"
    }
   ],
   "source": [
    "#plotting a barchart of the top 5 peak hour orders\n",
    "\n",
    "fig, ax = plt.subplots(figsize=[5,3])\n",
    "xx = peak_hour['hour'].astype('str')\n",
    "ax.bar(x=xx, height=peak_hour['%Order'])\n",
    "ax.set_title('Top 5 Peak hour percentage order')\n",
    "ax.set_xlabel('Hour')\n",
    "ax.set_ylabel('% Order')\n",
    "for index, value in enumerate(peak_hour['%Order'].values):\n",
    "    ax.annotate(str(value)+'%', xy=(index, value+0.3), ha='center', va='center')\n",
    "ax.yaxis.set_visible(False)\n",
    "ax.spines[['top', 'right', 'left']].set_visible(False)\n",
    "plt.xticks(['12', '13', '18', '17', '19'], ['12pm', '1pm', '6pm', '5pm', '7pm'])\n",
    "plt.show()"
   ]
  },
  {
   "cell_type": "markdown",
   "id": "dcf0a6ba",
   "metadata": {},
   "source": [
    "- The bar chart shows the distribution of the top five hour and their percentage orders. These hours; 12pm, 1pm, 6pm and 5pm had more than 10% of the total orders"
   ]
  },
  {
   "cell_type": "markdown",
   "id": "ab6562e5",
   "metadata": {},
   "source": [
    "## Monthly Orders"
   ]
  },
  {
   "cell_type": "code",
   "execution_count": 54,
   "id": "c4ded8a9",
   "metadata": {},
   "outputs": [
    {
     "data": {
      "text/html": [
       "<div>\n",
       "<style scoped>\n",
       "    .dataframe tbody tr th:only-of-type {\n",
       "        vertical-align: middle;\n",
       "    }\n",
       "\n",
       "    .dataframe tbody tr th {\n",
       "        vertical-align: top;\n",
       "    }\n",
       "\n",
       "    .dataframe thead th {\n",
       "        text-align: right;\n",
       "    }\n",
       "</style>\n",
       "<table border=\"1\" class=\"dataframe\">\n",
       "  <thead>\n",
       "    <tr style=\"text-align: right;\">\n",
       "      <th></th>\n",
       "      <th>month</th>\n",
       "      <th>month_name</th>\n",
       "      <th>total_orders</th>\n",
       "    </tr>\n",
       "  </thead>\n",
       "  <tbody>\n",
       "    <tr>\n",
       "      <th>0</th>\n",
       "      <td>1</td>\n",
       "      <td>January</td>\n",
       "      <td>4156</td>\n",
       "    </tr>\n",
       "    <tr>\n",
       "      <th>1</th>\n",
       "      <td>2</td>\n",
       "      <td>February</td>\n",
       "      <td>3892</td>\n",
       "    </tr>\n",
       "    <tr>\n",
       "      <th>2</th>\n",
       "      <td>3</td>\n",
       "      <td>March</td>\n",
       "      <td>4186</td>\n",
       "    </tr>\n",
       "    <tr>\n",
       "      <th>3</th>\n",
       "      <td>4</td>\n",
       "      <td>April</td>\n",
       "      <td>4067</td>\n",
       "    </tr>\n",
       "    <tr>\n",
       "      <th>4</th>\n",
       "      <td>5</td>\n",
       "      <td>May</td>\n",
       "      <td>4239</td>\n",
       "    </tr>\n",
       "    <tr>\n",
       "      <th>5</th>\n",
       "      <td>6</td>\n",
       "      <td>June</td>\n",
       "      <td>4025</td>\n",
       "    </tr>\n",
       "    <tr>\n",
       "      <th>6</th>\n",
       "      <td>7</td>\n",
       "      <td>July</td>\n",
       "      <td>4301</td>\n",
       "    </tr>\n",
       "    <tr>\n",
       "      <th>7</th>\n",
       "      <td>8</td>\n",
       "      <td>August</td>\n",
       "      <td>4094</td>\n",
       "    </tr>\n",
       "    <tr>\n",
       "      <th>8</th>\n",
       "      <td>9</td>\n",
       "      <td>September</td>\n",
       "      <td>3819</td>\n",
       "    </tr>\n",
       "    <tr>\n",
       "      <th>9</th>\n",
       "      <td>10</td>\n",
       "      <td>October</td>\n",
       "      <td>3797</td>\n",
       "    </tr>\n",
       "    <tr>\n",
       "      <th>10</th>\n",
       "      <td>11</td>\n",
       "      <td>November</td>\n",
       "      <td>4185</td>\n",
       "    </tr>\n",
       "    <tr>\n",
       "      <th>11</th>\n",
       "      <td>12</td>\n",
       "      <td>December</td>\n",
       "      <td>3859</td>\n",
       "    </tr>\n",
       "  </tbody>\n",
       "</table>\n",
       "</div>"
      ],
      "text/plain": [
       "    month month_name  total_orders\n",
       "0       1    January          4156\n",
       "1       2   February          3892\n",
       "2       3      March          4186\n",
       "3       4      April          4067\n",
       "4       5        May          4239\n",
       "5       6       June          4025\n",
       "6       7       July          4301\n",
       "7       8     August          4094\n",
       "8       9  September          3819\n",
       "9      10    October          3797\n",
       "10     11   November          4185\n",
       "11     12   December          3859"
      ]
     },
     "execution_count": 54,
     "metadata": {},
     "output_type": "execute_result"
    }
   ],
   "source": [
    "# calculating the monthly order\n",
    "monthly_order = (merged_data.groupby(['month', 'month_name'], as_index=False)\n",
    "                .agg(total_orders=('order_id', 'count'))\n",
    "                .sort_values('month',ascending=True))\n",
    "monthly_order"
   ]
  },
  {
   "cell_type": "code",
   "execution_count": 55,
   "id": "1610f12e",
   "metadata": {
    "scrolled": false
   },
   "outputs": [
    {
     "data": {
      "image/png": "[encoded data removed]",
      "text/plain": [
       "<Figure size 700x400 with 1 Axes>"
      ]
     },
     "metadata": {},
     "output_type": "display_data"
    }
   ],
   "source": [
    "# plot a line chart of the monthly orders\n",
    "fig, ax = plt.subplots(figsize=[7,4])\n",
    "ax.plot(monthly_order['month_name'].str[0:3], monthly_order['total_orders'])\n",
    "ax.set_title('Monthly Orders')\n",
    "ax.yaxis.set_visible(False)\n",
    "ax.set_xlabel('Month')\n",
    "ax.spines[['top', 'right', 'left']].set_visible(False)\n",
    "for index, value in enumerate(monthly_order['total_orders'].values):\n",
    "    ax.annotate(value, xy=(index, value+10), ha='center', va='center')\n",
    "plt.show()"
   ]
  },
  {
   "cell_type": "markdown",
   "id": "2e0cc5af",
   "metadata": {},
   "source": [
    "- The line chart shows a trend in the monthly orders with the month of July having the highest orders(4301) and october having the least order (3797)"
   ]
  },
  {
   "cell_type": "markdown",
   "id": "fcad1e5e",
   "metadata": {},
   "source": [
    "## %MoM Change in Order"
   ]
  },
  {
   "cell_type": "code",
   "execution_count": 56,
   "id": "166397e8",
   "metadata": {},
   "outputs": [
    {
     "data": {
      "text/html": [
       "<div>\n",
       "<style scoped>\n",
       "    .dataframe tbody tr th:only-of-type {\n",
       "        vertical-align: middle;\n",
       "    }\n",
       "\n",
       "    .dataframe tbody tr th {\n",
       "        vertical-align: top;\n",
       "    }\n",
       "\n",
       "    .dataframe thead th {\n",
       "        text-align: right;\n",
       "    }\n",
       "</style>\n",
       "<table border=\"1\" class=\"dataframe\">\n",
       "  <thead>\n",
       "    <tr style=\"text-align: right;\">\n",
       "      <th></th>\n",
       "      <th>month</th>\n",
       "      <th>month_name</th>\n",
       "      <th>total_orders</th>\n",
       "      <th>last_month_orders</th>\n",
       "    </tr>\n",
       "  </thead>\n",
       "  <tbody>\n",
       "    <tr>\n",
       "      <th>0</th>\n",
       "      <td>1</td>\n",
       "      <td>January</td>\n",
       "      <td>4156</td>\n",
       "      <td>NaN</td>\n",
       "    </tr>\n",
       "    <tr>\n",
       "      <th>1</th>\n",
       "      <td>2</td>\n",
       "      <td>February</td>\n",
       "      <td>3892</td>\n",
       "      <td>4156.0</td>\n",
       "    </tr>\n",
       "    <tr>\n",
       "      <th>2</th>\n",
       "      <td>3</td>\n",
       "      <td>March</td>\n",
       "      <td>4186</td>\n",
       "      <td>3892.0</td>\n",
       "    </tr>\n",
       "    <tr>\n",
       "      <th>3</th>\n",
       "      <td>4</td>\n",
       "      <td>April</td>\n",
       "      <td>4067</td>\n",
       "      <td>4186.0</td>\n",
       "    </tr>\n",
       "    <tr>\n",
       "      <th>4</th>\n",
       "      <td>5</td>\n",
       "      <td>May</td>\n",
       "      <td>4239</td>\n",
       "      <td>4067.0</td>\n",
       "    </tr>\n",
       "    <tr>\n",
       "      <th>5</th>\n",
       "      <td>6</td>\n",
       "      <td>June</td>\n",
       "      <td>4025</td>\n",
       "      <td>4239.0</td>\n",
       "    </tr>\n",
       "    <tr>\n",
       "      <th>6</th>\n",
       "      <td>7</td>\n",
       "      <td>July</td>\n",
       "      <td>4301</td>\n",
       "      <td>4025.0</td>\n",
       "    </tr>\n",
       "    <tr>\n",
       "      <th>7</th>\n",
       "      <td>8</td>\n",
       "      <td>August</td>\n",
       "      <td>4094</td>\n",
       "      <td>4301.0</td>\n",
       "    </tr>\n",
       "    <tr>\n",
       "      <th>8</th>\n",
       "      <td>9</td>\n",
       "      <td>September</td>\n",
       "      <td>3819</td>\n",
       "      <td>4094.0</td>\n",
       "    </tr>\n",
       "    <tr>\n",
       "      <th>9</th>\n",
       "      <td>10</td>\n",
       "      <td>October</td>\n",
       "      <td>3797</td>\n",
       "      <td>3819.0</td>\n",
       "    </tr>\n",
       "    <tr>\n",
       "      <th>10</th>\n",
       "      <td>11</td>\n",
       "      <td>November</td>\n",
       "      <td>4185</td>\n",
       "      <td>3797.0</td>\n",
       "    </tr>\n",
       "    <tr>\n",
       "      <th>11</th>\n",
       "      <td>12</td>\n",
       "      <td>December</td>\n",
       "      <td>3859</td>\n",
       "      <td>4185.0</td>\n",
       "    </tr>\n",
       "  </tbody>\n",
       "</table>\n",
       "</div>"
      ],
      "text/plain": [
       "    month month_name  total_orders  last_month_orders\n",
       "0       1    January          4156                NaN\n",
       "1       2   February          3892             4156.0\n",
       "2       3      March          4186             3892.0\n",
       "3       4      April          4067             4186.0\n",
       "4       5        May          4239             4067.0\n",
       "5       6       June          4025             4239.0\n",
       "6       7       July          4301             4025.0\n",
       "7       8     August          4094             4301.0\n",
       "8       9  September          3819             4094.0\n",
       "9      10    October          3797             3819.0\n",
       "10     11   November          4185             3797.0\n",
       "11     12   December          3859             4185.0"
      ]
     },
     "execution_count": 56,
     "metadata": {},
     "output_type": "execute_result"
    }
   ],
   "source": [
    "#create a for loop to get current month orders and append it as last month orders\n",
    "last_mth_orders = [np.nan]\n",
    "num_range = np.arange(0, 11, 1)\n",
    "for i in num_range:\n",
    "    x = monthly_order['total_orders'].iloc[i]\n",
    "    last_mth_orders.append(x)\n",
    "\n",
    "monthly_order['last_month_orders'] = last_mth_orders\n",
    "monthly_order"
   ]
  },
  {
   "cell_type": "code",
   "execution_count": 57,
   "id": "d6bae8ca",
   "metadata": {},
   "outputs": [],
   "source": [
    "#create a MoM order column\n",
    "monthly_order['MoM_order'] = ((monthly_order['total_orders'] - monthly_order['last_month_orders']) \n",
    "                                / monthly_order['last_month_orders'])"
   ]
  },
  {
   "cell_type": "code",
   "execution_count": 58,
   "id": "4d327940",
   "metadata": {},
   "outputs": [],
   "source": [
    "#create a %MoM order column\n",
    "monthly_order['%MoM_order']= (monthly_order['MoM_order'] * 100).round(1)"
   ]
  },
  {
   "cell_type": "code",
   "execution_count": 59,
   "id": "2ea1b910",
   "metadata": {},
   "outputs": [
    {
     "data": {
      "image/png": "[encoded data removed]",
      "text/plain": [
       "<Figure size 700x400 with 1 Axes>"
      ]
     },
     "metadata": {},
     "output_type": "display_data"
    }
   ],
   "source": [
    "#plotting a bar chart of %MoM change in orders\n",
    "\n",
    "fig, ax = plt.subplots(figsize=[7,4])\n",
    "ax.bar(x=monthly_order['month_name'].str[0:3], height=monthly_order['%MoM_order'])\n",
    "ax.set_title('%MoM change in Order')\n",
    "ax.set_xlabel('Month')\n",
    "for index, value in enumerate(monthly_order['%MoM_order'].values):\n",
    "    ax.annotate(str(value)+'%', xy=(index, value+0.3), ha='center', va='center')\n",
    "ax.yaxis.set_visible(False)\n",
    "ax.spines[['top', 'right', 'left']].set_visible(False)\n",
    "plt.show()"
   ]
  },
  {
   "cell_type": "markdown",
   "id": "f0938744",
   "metadata": {},
   "source": [
    "- The bar chart shows a % month over month change in orders. There is a 10% rise in order in November compare to previous month octonber, showing increase in orders in November"
   ]
  },
  {
   "cell_type": "markdown",
   "id": "d0e88cce",
   "metadata": {},
   "source": [
    "## Orders by Category"
   ]
  },
  {
   "cell_type": "code",
   "execution_count": 60,
   "id": "d189253d",
   "metadata": {},
   "outputs": [
    {
     "data": {
      "text/html": [
       "<div>\n",
       "<style scoped>\n",
       "    .dataframe tbody tr th:only-of-type {\n",
       "        vertical-align: middle;\n",
       "    }\n",
       "\n",
       "    .dataframe tbody tr th {\n",
       "        vertical-align: top;\n",
       "    }\n",
       "\n",
       "    .dataframe thead th {\n",
       "        text-align: right;\n",
       "    }\n",
       "</style>\n",
       "<table border=\"1\" class=\"dataframe\">\n",
       "  <thead>\n",
       "    <tr style=\"text-align: right;\">\n",
       "      <th></th>\n",
       "      <th>category</th>\n",
       "      <th>total_orders</th>\n",
       "    </tr>\n",
       "  </thead>\n",
       "  <tbody>\n",
       "    <tr>\n",
       "      <th>1</th>\n",
       "      <td>Classic</td>\n",
       "      <td>14579</td>\n",
       "    </tr>\n",
       "    <tr>\n",
       "      <th>2</th>\n",
       "      <td>Supreme</td>\n",
       "      <td>11777</td>\n",
       "    </tr>\n",
       "    <tr>\n",
       "      <th>3</th>\n",
       "      <td>Veggie</td>\n",
       "      <td>11449</td>\n",
       "    </tr>\n",
       "    <tr>\n",
       "      <th>0</th>\n",
       "      <td>Chicken</td>\n",
       "      <td>10815</td>\n",
       "    </tr>\n",
       "  </tbody>\n",
       "</table>\n",
       "</div>"
      ],
      "text/plain": [
       "  category  total_orders\n",
       "1  Classic         14579\n",
       "2  Supreme         11777\n",
       "3   Veggie         11449\n",
       "0  Chicken         10815"
      ]
     },
     "execution_count": 60,
     "metadata": {},
     "output_type": "execute_result"
    }
   ],
   "source": [
    "# calculating the total order by Pizza category\n",
    "cat_order = (merged_data.groupby(['category'], as_index=False)\n",
    "                        .agg(total_orders = ('order_id', 'count'))\n",
    "                        .sort_values('total_orders', ascending=False))\n",
    "cat_order"
   ]
  },
  {
   "cell_type": "code",
   "execution_count": 61,
   "id": "82214e57",
   "metadata": {},
   "outputs": [
    {
     "data": {
      "image/png": "[encoded data removed]",
      "text/plain": [
       "<Figure size 500x400 with 1 Axes>"
      ]
     },
     "metadata": {},
     "output_type": "display_data"
    }
   ],
   "source": [
    "# Plotting a pie chart of the total orders by pizza category\n",
    "\n",
    "fig, ax = plt.subplots(figsize=[5,4])\n",
    "ax.pie(cat_order['total_orders'], labels=cat_order['category'], startangle=90, autopct='%.0f%%')\n",
    "ax.set_title('Orders by Pizza Category')\n",
    "plt.show()"
   ]
  },
  {
   "cell_type": "markdown",
   "id": "f76a834c",
   "metadata": {},
   "source": [
    "- The pie chart shows that the Classic Pizza category made up of 30% of the total orders, while supreme and veggie had about the same order percentage (24%), the chicken category has the least percentage order of 22%"
   ]
  },
  {
   "cell_type": "markdown",
   "id": "06437ead",
   "metadata": {},
   "source": [
    "## Top 10 Selling Pizza"
   ]
  },
  {
   "cell_type": "code",
   "execution_count": 62,
   "id": "6c7c14b1",
   "metadata": {},
   "outputs": [],
   "source": [
    "# Calculating the top 10 selling pizza\n",
    "top_10_sold = (merged_data.groupby(['name']).agg(total_qty=('quantity', 'sum'))\n",
    "                        .sort_values('total_qty', ascending=False)\n",
    "                        .head(10).reset_index())"
   ]
  },
  {
   "cell_type": "code",
   "execution_count": 63,
   "id": "130ceb3f",
   "metadata": {},
   "outputs": [
    {
     "data": {
      "image/png": "[encoded data removed]",
      "text/plain": [
       "<Figure size 500x400 with 1 Axes>"
      ]
     },
     "metadata": {},
     "output_type": "display_data"
    }
   ],
   "source": [
    "# Creating a barchart of the top ten sold pizza\n",
    "\n",
    "fig, ax = plt.subplots(figsize=[5,4])\n",
    "ax.barh(y=top_10_sold['name'], width=top_10_sold['total_qty'].sort_values(ascending=True))\n",
    "ax.set_title('Top 10 Sold Pizzas')\n",
    "ax.spines[['top', 'right']].set_visible(False)\n",
    "ax.set_xlabel('Total Pizza Sold')\n",
    "for index, value in enumerate(top_10_sold['total_qty'].sort_values(ascending=True).values):\n",
    "    ax.text(value, index, str((value/1000).round(2))+'K')\n",
    "plt.show()"
   ]
  },
  {
   "cell_type": "markdown",
   "id": "4d503b7a",
   "metadata": {},
   "source": [
    "- The bar chart shows the top ten most sold pizza. The **Big meat Pizza** rank first, followed by The **Southwest Chicken Pizza** and **Spicy Italian Pizza** ranking third."
   ]
  },
  {
   "cell_type": "markdown",
   "id": "77b632bb",
   "metadata": {},
   "source": [
    "## Lowest Selling Pizza"
   ]
  },
  {
   "cell_type": "code",
   "execution_count": 64,
   "id": "74e01127",
   "metadata": {},
   "outputs": [],
   "source": [
    "# Calculating the lowest selling pizza\n",
    "least_5_sold = (merged_data.groupby(['name']).agg(total_qty=('quantity', 'sum'))\n",
    "                                    .sort_values('total_qty', ascending=True)\n",
    "                                    .head(5).reset_index())\n"
   ]
  },
  {
   "cell_type": "code",
   "execution_count": 65,
   "id": "a2e00d29",
   "metadata": {},
   "outputs": [
    {
     "data": {
      "image/png": "[encoded data removed]",
      "text/plain": [
       "<Figure size 500x300 with 1 Axes>"
      ]
     },
     "metadata": {},
     "output_type": "display_data"
    }
   ],
   "source": [
    "# Creating a barchart of the least five sold pizza\n",
    "\n",
    "fig, ax = plt.subplots(figsize=[5,3])\n",
    "ax.barh(y=least_5_sold['name'], width=least_5_sold['total_qty'])\n",
    "ax.set_title('Least 5 Sold Pizzas')\n",
    "ax.spines[['top', 'right']].set_visible(False)\n",
    "ax.set_xlabel('Total Pizza Sold')\n",
    "for index, value in enumerate(least_5_sold['total_qty'].sort_values(ascending=True).values):\n",
    "    ax.text(value, index, str(value))\n",
    "plt.show()"
   ]
  },
  {
   "cell_type": "markdown",
   "id": "83d35a77",
   "metadata": {},
   "source": [
    "- The bar chart shows the five least sold pizza, with The Brie Carre Pizza ranking the lowest with about 490 pizzas sold"
   ]
  },
  {
   "cell_type": "markdown",
   "id": "8e2a7394",
   "metadata": {},
   "source": [
    "## Order by day of week"
   ]
  },
  {
   "cell_type": "code",
   "execution_count": 66,
   "id": "619a9fb4",
   "metadata": {},
   "outputs": [],
   "source": [
    "#create a day of week column\n",
    "\n",
    "merged_data['day_of_week'] = merged_data['date'].dt.day_of_week\n",
    "merged_data['day_name'] = merged_data['date'].dt.day_name()\n",
    "\n",
    "# Create an order by day of week dataframe\n",
    "day_order = (merged_data.groupby(['day_of_week','day_name'], as_index=False)\n",
    "                 .agg(total_orders = ('order_id', 'count'))\n",
    "                 .sort_values('day_of_week', ascending=True))"
   ]
  },
  {
   "cell_type": "code",
   "execution_count": 67,
   "id": "7a279fba",
   "metadata": {},
   "outputs": [],
   "source": [
    "# Create a %order column to the day of week dataframe\n",
    "day_order['%order'] = ((day_order['total_orders']/total_orders)*100).round(2)"
   ]
  },
  {
   "cell_type": "code",
   "execution_count": 68,
   "id": "490cd7e2",
   "metadata": {},
   "outputs": [
    {
     "data": {
      "image/png": "[encoded data removed]",
      "text/plain": [
       "<Figure size 800x300 with 1 Axes>"
      ]
     },
     "metadata": {},
     "output_type": "display_data"
    }
   ],
   "source": [
    "#Plotting a bar chart of the order by day of week\n",
    "\n",
    "fig, ax = plt.subplots(figsize=[8,3])\n",
    "\n",
    "ax.bar(x=day_order['day_name'], height=day_order['%order'])\n",
    "\n",
    "ax.set_title('Order by Day of Week')\n",
    "ax.set_xlabel('Day')\n",
    "ax.set_ylabel('% Order')\n",
    "for index, value in enumerate(day_order['%order'].values):\n",
    "    ax.annotate(str(value)+'%', xy=(index, value+0.5), ha='center', va='center')\n",
    "ax.yaxis.set_visible(False)\n",
    "ax.spines[['top', 'right', 'left']].set_visible(False)\n",
    "\n",
    "plt.show()"
   ]
  },
  {
   "cell_type": "markdown",
   "id": "190b0d1c",
   "metadata": {},
   "source": [
    "- Then bar chart shows that Friday is the most favorite day that customers ordered a pizza and it accounts for 16.67% of the total orders, this is followed by Saturday (15.13%) and Thursday (15.06%). "
   ]
  },
  {
   "cell_type": "markdown",
   "id": "dc3cd9b0",
   "metadata": {},
   "source": [
    "# Revenue Analysis"
   ]
  },
  {
   "cell_type": "markdown",
   "id": "e7c9f605",
   "metadata": {},
   "source": [
    "## Monthly Revenue"
   ]
  },
  {
   "cell_type": "code",
   "execution_count": 69,
   "id": "4899d934",
   "metadata": {},
   "outputs": [],
   "source": [
    "#calculating the monthly revenue\n",
    "monthly_revenue = (merged_data.groupby(['month' ,'month_name'], as_index=False)\n",
    "                    .agg(revenue=('revenue', 'sum')).sort_values('month'))"
   ]
  },
  {
   "cell_type": "code",
   "execution_count": 70,
   "id": "ecbc62da",
   "metadata": {},
   "outputs": [
    {
     "data": {
      "image/png": "[encoded data removed]",
      "text/plain": [
       "<Figure size 1000x400 with 1 Axes>"
      ]
     },
     "metadata": {},
     "output_type": "display_data"
    }
   ],
   "source": [
    "#plotting a line chart of monthly revenue trend\n",
    "\n",
    "fig, ax = plt.subplots(figsize=[10,4])\n",
    "ax.plot(monthly_revenue['month_name'].str[0:3], monthly_revenue['revenue'])\n",
    "ax.set_title('Monthly Revenue')\n",
    "ax.yaxis.set_visible(False)\n",
    "ax.spines[['top', 'right', 'left']].set_visible(False)\n",
    "for index, value in enumerate(monthly_revenue['revenue'].values):\n",
    "    ax.annotate('$'+str((value/1000).round(2))+'K', xy=(index, value), ha='center', va='center')\n",
    "plt.show()"
   ]
  },
  {
   "cell_type": "markdown",
   "id": "dd8ceea0",
   "metadata": {},
   "source": [
    "- The line chart shows the monthly revenue from the pizza sales, and July had the highest revenue ($72,557.90) due to the fact that it had the highest order"
   ]
  },
  {
   "cell_type": "markdown",
   "id": "f29851ce",
   "metadata": {},
   "source": [
    "## Revenue by Pizza category"
   ]
  },
  {
   "cell_type": "code",
   "execution_count": 71,
   "id": "42246957",
   "metadata": {
    "scrolled": true
   },
   "outputs": [],
   "source": [
    "# Calculating the revenue by Pizza category dataframe\n",
    "rev_by_category = (merged_data.groupby(['category'], as_index=False)\n",
    "                    .agg(total_revenue=('revenue', 'sum'))\n",
    "                    .sort_values('total_revenue', ascending=False))"
   ]
  },
  {
   "cell_type": "code",
   "execution_count": 72,
   "id": "dc22bdde",
   "metadata": {},
   "outputs": [
    {
     "data": {
      "image/png": "[encoded data removed]",
      "text/plain": [
       "<Figure size 500x300 with 1 Axes>"
      ]
     },
     "metadata": {},
     "output_type": "display_data"
    }
   ],
   "source": [
    "# Plotting a barchart of the revenue by category\n",
    "fig, ax = plt.subplots(figsize=[5,3])\n",
    "ax.bar(data=rev_by_category, x='category', height='total_revenue')\n",
    "\n",
    "ax.set_title('Revenue by Pizza Category')\n",
    "ax.set_xlabel('Pizza Category')\n",
    "ax.spines[['top', 'right', 'left']].set_visible(False)\n",
    "ax.yaxis.set_visible(False)\n",
    "\n",
    "for index, value in enumerate(rev_by_category['total_revenue'].values):\n",
    "    ax.annotate('$'+str((value/1000).round(2))+'K', xy=(index, value+5000), va='center', ha='center')\n",
    "\n",
    "plt.show()"
   ]
  },
  {
   "cell_type": "markdown",
   "id": "748ad16a",
   "metadata": {},
   "source": [
    "- The bar chart shows the revenue by pizza category, and the Classic category generated the highest revenue"
   ]
  },
  {
   "cell_type": "markdown",
   "id": "cb114b09",
   "metadata": {},
   "source": [
    "## Top five pizza by revenue"
   ]
  },
  {
   "cell_type": "code",
   "execution_count": 73,
   "id": "a0bc80ae",
   "metadata": {},
   "outputs": [],
   "source": [
    "# creating a Top five pizza by revenue dataframe\n",
    "rev_by_pizza = (merged_data.groupby(['name'])\n",
    "                    .agg(total_revenue=('revenue', 'sum'))\n",
    "                    .sort_values('total_revenue', ascending=False)\n",
    "                    .head(5).reset_index())\n",
    "\n",
    "rev_by_pizza1 = rev_by_pizza.sort_values('total_revenue', ascending=True)\n"
   ]
  },
  {
   "cell_type": "code",
   "execution_count": 74,
   "id": "418271bb",
   "metadata": {},
   "outputs": [
    {
     "data": {
      "image/png": "[encoded data removed]",
      "text/plain": [
       "<Figure size 500x300 with 1 Axes>"
      ]
     },
     "metadata": {},
     "output_type": "display_data"
    }
   ],
   "source": [
    "# Plotting a barchart of the revenue by category\n",
    "fig, ax = plt.subplots(figsize=[5,3])\n",
    "ax.barh(y=rev_by_pizza1['name'], width=rev_by_pizza1['total_revenue'])\n",
    "\n",
    "ax.set_title('Top 5 Pizza by Revenue')\n",
    "ax.set_xlabel('Revenue')\n",
    "ax.spines[['top', 'right']].set_visible(False)\n",
    "\n",
    "for index, value in enumerate(rev_by_pizza1['total_revenue'].sort_values(ascending=True).values):\n",
    "    ax.text(value, index, '$'+str(value.round(1)))\n",
    "\n",
    "plt.show()"
   ]
  },
  {
   "cell_type": "markdown",
   "id": "95eaf056",
   "metadata": {},
   "source": [
    "- The bar chart shows the top five pizzas that generated the highest revenue and The Thai Chicken Pizza rank top with a total revenue of $43,434.25"
   ]
  },
  {
   "cell_type": "markdown",
   "id": "88b89dd3",
   "metadata": {},
   "source": [
    "## Least five pizza by revenue"
   ]
  },
  {
   "cell_type": "code",
   "execution_count": 75,
   "id": "f01b4f3e",
   "metadata": {},
   "outputs": [],
   "source": [
    "# creating a Least five pizza by revenue dataframe\n",
    "rev_by_pizza2 = (merged_data.groupby(['name'])\n",
    "                    .agg(total_revenue=('revenue', 'sum'))\n",
    "                    .sort_values('total_revenue', ascending=True)\n",
    "                    .head(5).reset_index())\n",
    "\n",
    "rev_by_pizza2 = rev_by_pizza2.sort_values('total_revenue', ascending=False)"
   ]
  },
  {
   "cell_type": "code",
   "execution_count": 76,
   "id": "5e09d6ab",
   "metadata": {},
   "outputs": [
    {
     "data": {
      "image/png": "[encoded data removed]",
      "text/plain": [
       "<Figure size 500x300 with 1 Axes>"
      ]
     },
     "metadata": {},
     "output_type": "display_data"
    }
   ],
   "source": [
    "# Plotting a barchart of the revenue by category\n",
    "fig, ax = plt.subplots(figsize=[5,3])\n",
    "ax.barh(y=rev_by_pizza2['name'], width=rev_by_pizza2['total_revenue'])\n",
    "\n",
    "ax.set_title('Least 5 Pizza by Revenue')\n",
    "ax.set_xlabel('Revenue')\n",
    "ax.spines[['top', 'right']].set_visible(False)\n",
    "\n",
    "for index, value in enumerate(rev_by_pizza2['total_revenue'].sort_values(ascending=False).values):\n",
    "    ax.text(value, index, '$'+str(value.round(1)))\n",
    "\n",
    "plt.show()"
   ]
  },
  {
   "cell_type": "markdown",
   "id": "9536c4c9",
   "metadata": {},
   "source": [
    "- The bar chart shows five pizzas that generated the lowest revenue and The Brie Carre Pizza rank lowest with a total revenue of $11,588.5"
   ]
  },
  {
   "cell_type": "markdown",
   "id": "5c004829",
   "metadata": {},
   "source": [
    "# Summary of findings\n",
    "The Mac-D Pizza Store makes about 32 pizza types of different sizes belonging to four categories. The store had a total of 21,350 unique customers with an average of 60 customers per day\n",
    "A total of 48,620 orders was placed with an average of 136 orders daily. The total pizza sold for the year was 49,574 pizza with an average of 138 pizza per day. An average of 1 pizza is sold per order.\n",
    "\n",
    "### Order Analysis\n",
    "\n",
    "#### Order Volume\n",
    "- The most ordered pizza category is the classic with a total order of 14,579, and the most ordered pizza is the Classic deluxe Pizza. The least ordered pizza is the Brie Carre pizza with a total of 480 orders.\n",
    "\n",
    "#### Order day\n",
    "- Friday is the most favorite day that customers ordered a pizza and it accounts for 16.67% of the total orders, this is followed by Saturday (15.13%) and Thursday (15.08%). \n",
    "- The least favorite day is Sunday which had 12.17% of the total order. This might be because people are home on Sunday and they may prefer a home cooked meal.\n",
    "\n",
    "#### Order hour\n",
    "- There are four peak hours, each account for more than 10% of the orders. The hour, 12pm ranked top with 13.46% of the total order, 1pm with 12.76%, 6pm with 11.02% and 5pm with 10.58% of the total order. \n",
    "- The first two peak hours (12pm and 1pm) had more than 1000 orders placed between Monday and Friday, and more than 600 orders placed at 6pm and 5pm a  nd as such, the business should ensure staffs are sufficient during those hours to take orders and enough pizzas are available to meet demands.\n",
    "\n",
    "### Revenue Analysis\n",
    "- A total of 817,860 was generated as revenue from sales with the classic pizza category ranking top with a total of 220,053. \n",
    "- The Thai chicken pizza from the chicken category had the highest revenue (43,434) while the Brie Carre Pizza had the lowest revenue (11,588) \n",
    "- The month of July had the highest revenue of 72,558, followed by May (71,403) \n"
   ]
  },
  {
   "cell_type": "code",
   "execution_count": null,
   "id": "fff7b7b4",
   "metadata": {},
   "outputs": [],
   "source": []
  }
 ],
 "metadata": {
  "kernelspec": {
   "display_name": "Python 3 (ipykernel)",
   "language": "python",
   "name": "python3"
  },
  "language_info": {
   "codemirror_mode": {
    "name": "ipython",
    "version": 3
   },
   "file_extension": ".py",
   "mimetype": "text/x-python",
   "name": "python",
   "nbconvert_exporter": "python",
   "pygments_lexer": "ipython3",
   "version": "3.10.9"
  },
  "varInspector": {
   "cols": {
    "lenName": 16,
    "lenType": 16,
    "lenVar": 40
   },
   "kernels_config": {
    "python": {
     "delete_cmd_postfix": "",
     "delete_cmd_prefix": "del ",
     "library": "var_list.py",
     "varRefreshCmd": "print(var_dic_list())"
    },
    "r": {
     "delete_cmd_postfix": ") ",
     "delete_cmd_prefix": "rm(",
     "library": "var_list.r",
     "varRefreshCmd": "cat(var_dic_list()) "
    }
   },
   "types_to_exclude": [
    "module",
    "function",
    "builtin_function_or_method",
    "instance",
    "_Feature"
   ],
   "window_display": false
  }
 },
 "nbformat": 4,
 "nbformat_minor": 5
}
